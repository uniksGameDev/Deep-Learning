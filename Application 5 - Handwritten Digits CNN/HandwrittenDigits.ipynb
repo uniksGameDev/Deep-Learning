{
 "cells": [
  {
   "cell_type": "markdown",
   "metadata": {},
   "source": [
    "# Application 5 - Handwritten Digits CNN"
   ]
  },
  {
   "cell_type": "code",
   "execution_count": 1,
   "metadata": {},
   "outputs": [],
   "source": [
    "import torch\n",
    "import torch.nn as nn\n",
    "import torchvision.transforms as transforms\n",
    "import torchvision.datasets as datasets\n",
    "from torch.autograd import Variable\n",
    "import matplotlib.pyplot as plt"
   ]
  },
  {
   "cell_type": "code",
   "execution_count": 2,
   "metadata": {},
   "outputs": [],
   "source": [
    "# Specify the Mean and standard deviation\n",
    "mean_gray   = 0.1307\n",
    "stddev_gray = 0.3081\n",
    "\n",
    "# transform images to tensors and normalize a tensor image with mean and standard deviation\n",
    "transforms_ori = transforms.Compose([transforms.ToTensor(),\n",
    "                                     transforms.Normalize((mean_gray,), (stddev_gray,))])\n",
    "\n",
    "# resize andtransform images to tensors and normalize a tensor image with mean and standard deviation\n",
    "transforms_photo = transforms.Compose([transforms.Resize((28,28)),\n",
    "                                       transforms.ToTensor(),\n",
    "                                       transforms.Normalize((mean_gray,), (stddev_gray,))])\n",
    "\n",
    "# load training dataset\n",
    "train_dataset = datasets.MNIST(root = './data', \n",
    "                            train = True, \n",
    "                            transform = transforms_ori,\n",
    "                            download = True)\n",
    "# load testing dataset\n",
    "test_dataset = datasets.MNIST(root = './data', \n",
    "                            train = False, \n",
    "                            transform = transforms_ori)"
   ]
  },
  {
   "cell_type": "code",
   "execution_count": 3,
   "metadata": {},
   "outputs": [
    {
     "name": "stdout",
     "output_type": "stream",
     "text": [
      "4\n"
     ]
    },
    {
     "data": {
      "text/plain": [
       "<matplotlib.image.AxesImage at 0x27bc2964c10>"
      ]
     },
     "execution_count": 3,
     "metadata": {},
     "output_type": "execute_result"
    },
    {
     "data": {
      "image/png": "[encoded data removed]",
      "text/plain": [
       "<Figure size 432x288 with 1 Axes>"
      ]
     },
     "metadata": {
      "needs_background": "light"
     },
     "output_type": "display_data"
    }
   ],
   "source": [
    "#  visualize single image in train dataset\n",
    "print(train_dataset[20][1])\n",
    "random_image = train_dataset[20][0].numpy() * stddev_gray + mean_gray\n",
    "plt.imshow(random_image.reshape(28, 28), cmap = 'gray')"
   ]
  },
  {
   "cell_type": "code",
   "execution_count": 4,
   "metadata": {},
   "outputs": [],
   "source": [
    "batch_size = 100\n",
    "epochs     = 10"
   ]
  },
  {
   "cell_type": "code",
   "execution_count": 5,
   "metadata": {},
   "outputs": [],
   "source": [
    "# make the dataset iterable\n",
    "train_load = torch.utils.data.DataLoader(dataset    = train_dataset,\n",
    "                                         batch_size = batch_size,\n",
    "                                         shuffle    = True)\n",
    "\n",
    "test_load = torch.utils.data.DataLoader(dataset    = test_dataset,\n",
    "                                         batch_size = batch_size,\n",
    "                                         shuffle    = False)"
   ]
  },
  {
   "cell_type": "code",
   "execution_count": 6,
   "metadata": {},
   "outputs": [
    {
     "name": "stdout",
     "output_type": "stream",
     "text": [
      "There are 60000 images in the training set\n",
      "There are 10000 images in the test set\n",
      "There are 600 images in the train loader\n",
      "There are 100 images in the test loader\n"
     ]
    }
   ],
   "source": [
    "print('There are {} images in the training set'.format(len(train_dataset)))\n",
    "print('There are {} images in the test set'.format(len(test_dataset)))\n",
    "print('There are {} images in the train loader'.format(len(train_load)))\n",
    "print('There are {} images in the test loader'.format(len(test_load)))"
   ]
  },
  {
   "cell_type": "code",
   "execution_count": 7,
   "metadata": {},
   "outputs": [],
   "source": [
    "#Create the model class\n",
    "class CNN(nn.Module):\n",
    "    def __init__(self):\n",
    "        super(CNN,self).__init__()\n",
    "        \n",
    "        # Convo Layer 1\n",
    "        self.cnn1       = nn.Conv2d(in_channels=1, out_channels=8, kernel_size=3,stride=1, padding=1)\n",
    "        self.batchnorm1 = nn.BatchNorm2d(8)                                         # apply batch normalization\n",
    "        self.relu       = nn.ReLU()                                                 # apply relu function\n",
    "        self.maxpool1   = nn.MaxPool2d(kernel_size=2)                               # apply Max Pool\n",
    "        \n",
    "        # Convo Layer 2\n",
    "        self.cnn2       = nn.Conv2d(in_channels=8, out_channels=32, kernel_size=5, stride=1, padding=2)\n",
    "        self.batchnorm2 = nn.BatchNorm2d(32)                                        # apply batch normalization\n",
    "        self.maxpool2   = nn.MaxPool2d(kernel_size=2)                               # apply Max Pool\n",
    "\n",
    "        # flatten the feature map and apply dropout technic\n",
    "        self.fc1        = nn.Linear(in_features=1568, out_features=600)\n",
    "        self.droput     = nn.Dropout(p=0.5)\n",
    "        self.fc2        = nn.Linear(in_features=600, out_features=10)\n",
    "\n",
    "    # define feed forward network\n",
    "    def forward(self,x):\n",
    "        out = self.cnn1(x)\n",
    "        out = self.batchnorm1(out)\n",
    "        out = self.relu(out)\n",
    "        out = self.maxpool1(out)\n",
    "        out = self.cnn2(out)\n",
    "        out = self.batchnorm2(out)\n",
    "        out = self.relu(out)\n",
    "        out = self.maxpool2(out)\n",
    "\n",
    "        # now we have to flatten the output. This is where we apply the feed forward neural network as learned before\n",
    "        out = out.view(-1,1568)\n",
    "        \n",
    "        # forward through fully connected layer \n",
    "        out = self.fc1(out)\n",
    "        out = self.relu(out)\n",
    "        out = self.droput(out)\n",
    "        out = self.fc2(out)\n",
    "        return out"
   ]
  },
  {
   "cell_type": "code",
   "execution_count": 8,
   "metadata": {},
   "outputs": [],
   "source": [
    "# create model object\n",
    "model = CNN()\n",
    "CUDA = torch.cuda.is_available()\n",
    "if CUDA:\n",
    "    model = model.cuda()  \n",
    "\n",
    "loss_fn = nn.CrossEntropyLoss()                                                     # define loss function\n",
    "optimizer = torch.optim.SGD(params = model.parameters(), lr = 0.01)                 # define SGD optimizer"
   ]
  },
  {
   "cell_type": "code",
   "execution_count": 9,
   "metadata": {},
   "outputs": [
    {
     "name": "stdout",
     "output_type": "stream",
     "text": [
      "For one iteration, this is what happens...\n",
      "Input Shape:  torch.Size([100, 1, 28, 28])\n",
      "Label Shape:  torch.Size([100])\n",
      "Output Shape:  torch.Size([100, 10])\n",
      "Predicted Shape:  torch.Size([100])\n",
      "Predicted Tensor: \n",
      "tensor([6, 4, 4, 5, 4, 3, 0, 5, 4, 0, 9, 9, 5, 1, 4, 4, 1, 0, 0, 8, 5, 9, 4, 4,\n",
      "        3, 9, 9, 0, 6, 0, 4, 4, 4, 5, 4, 6, 6, 4, 6, 9, 6, 3, 6, 4, 1, 4, 0, 4,\n",
      "        4, 6, 1, 4, 4, 0, 4, 0, 0, 4, 4, 6, 6, 3, 5, 4, 6, 0, 6, 4, 1, 4, 6, 6,\n",
      "        5, 4, 5, 9, 3, 9, 1, 4, 4, 6, 6, 0, 0, 9, 9, 4, 5, 0, 0, 6, 4, 6, 4, 0,\n",
      "        5, 4, 1, 0])\n",
      "Correct Prediction:  tensor(14)\n"
     ]
    }
   ],
   "source": [
    "# visualize what's happening\n",
    "iterations = 0\n",
    "correct   = 0\n",
    "for i, (inputs, labels) in enumerate (train_load):\n",
    "    if CUDA:\n",
    "        inputs = inputs.cuda()\n",
    "        labels = labels.cuda()\n",
    "\n",
    "    print(\"For one iteration, this is what happens...\")\n",
    "    print(\"Input Shape: \", inputs.shape)\n",
    "    print(\"Label Shape: \", labels.shape)\n",
    "\n",
    "    outputs = model(inputs)\n",
    "    print(\"Output Shape: \", outputs.shape)\n",
    "    _, predicted = torch.max(outputs, 1)\n",
    "    print(\"Predicted Shape: \", predicted.shape)\n",
    "    print(\"Predicted Tensor: \")\n",
    "    print(predicted)\n",
    "    correct += (predicted == labels).sum()\n",
    "    print(\"Correct Prediction: \", correct)\n",
    "    break"
   ]
  },
  {
   "cell_type": "code",
   "execution_count": 10,
   "metadata": {},
   "outputs": [
    {
     "name": "stdout",
     "output_type": "stream",
     "text": [
      "Epoch: [1]/[10], Training Loss: 0.505, Training Accuracy: 86.032, Testing Loss: 0.160, Testing Accuracy: 95.700\n",
      "Epoch: [2]/[10], Training Loss: 0.166, Training Accuracy: 95.330, Testing Loss: 0.100, Testing Accuracy: 97.130\n",
      "Epoch: [3]/[10], Training Loss: 0.118, Training Accuracy: 96.617, Testing Loss: 0.079, Testing Accuracy: 97.650\n",
      "Epoch: [4]/[10], Training Loss: 0.096, Training Accuracy: 97.168, Testing Loss: 0.064, Testing Accuracy: 98.090\n",
      "Epoch: [5]/[10], Training Loss: 0.082, Training Accuracy: 97.600, Testing Loss: 0.057, Testing Accuracy: 98.300\n",
      "Epoch: [6]/[10], Training Loss: 0.074, Training Accuracy: 97.803, Testing Loss: 0.050, Testing Accuracy: 98.500\n",
      "Epoch: [7]/[10], Training Loss: 0.065, Training Accuracy: 98.145, Testing Loss: 0.046, Testing Accuracy: 98.600\n",
      "Epoch: [8]/[10], Training Loss: 0.060, Training Accuracy: 98.192, Testing Loss: 0.043, Testing Accuracy: 98.660\n",
      "Epoch: [9]/[10], Training Loss: 0.056, Training Accuracy: 98.370, Testing Loss: 0.042, Testing Accuracy: 98.620\n",
      "Epoch: [10]/[10], Training Loss: 0.052, Training Accuracy: 98.473, Testing Loss: 0.042, Testing Accuracy: 98.610\n"
     ]
    }
   ],
   "source": [
    "# training the CNN\n",
    "num_epoch = 10\n",
    "\n",
    "#Define the lists to store the results of loss and accuracy\n",
    "train_loss     = []\n",
    "test_loss      = []\n",
    "train_accuracy = []\n",
    "test_accuracy  = []\n",
    "\n",
    "for epoch in range(num_epoch):\n",
    "    correct    = 0\n",
    "    iterations = 0\n",
    "    iter_loss  = 0.0\n",
    "\n",
    "    # put the network into training mode\n",
    "    model.train()\n",
    "\n",
    "    for i, (inputs, labels) in enumerate (train_load):\n",
    "        inputs = Variable(inputs)\n",
    "        labels = Variable(labels)\n",
    "\n",
    "        if CUDA:\n",
    "            inputs = inputs.cuda()\n",
    "            labels = labels.cuda()\n",
    "\n",
    "        model.zero_grad()                                               # clear the gradient\n",
    "        outputs = model(inputs)                                         # pass input through feed forward function\n",
    "        loss = loss_fn(outputs, labels)                                 # calculate the loss\n",
    "        iter_loss += loss.item()                                        # update loss for single iteration\n",
    "        loss.backward()                                                 # backpropagation\n",
    "        optimizer.step()                                                # update the weights\n",
    "\n",
    "        # record the correct predictions for training data\n",
    "        _, predicted = torch.max(outputs, 1)\n",
    "        correct += (predicted == labels).sum().item()\n",
    "        iterations += 1\n",
    "\n",
    "    train_loss.append(iter_loss/iterations)                             # record the training loss\n",
    "    train_accuracy.append(100*correct/len(train_dataset))               # record the training accuracy\n",
    "\n",
    "    # testing phase\n",
    "    test_iter_loss = 0.0\n",
    "    correct = 0\n",
    "    iterations = 0\n",
    "\n",
    "    # put the network into evaluation mode\n",
    "    model.eval()\n",
    "\n",
    "    for i, (inputs, labels) in enumerate(test_load):\n",
    "\n",
    "        # convert torch tensor to Variable\n",
    "        inputs = Variable(inputs)\n",
    "        labels = Variable(labels)\n",
    "\n",
    "        if CUDA:\n",
    "            inputs = inputs.cuda()\n",
    "            labels = labels.cuda()\n",
    "\n",
    "        outputs = model(inputs)                                         # pass input through feed forward function\n",
    "        loss = loss_fn(outputs, labels)                                 # calculate the loss\n",
    "        test_iter_loss += loss.item()                                             # update the loss for single iteration\n",
    "\n",
    "        # record the correct predictions for training data\n",
    "        _, predicted = torch.max(outputs, 1)\n",
    "        correct += (predicted == labels).sum().item()\n",
    "        iterations += 1\n",
    "\n",
    "    test_loss.append(test_iter_loss/iterations)\n",
    "    test_accuracy.append(100*correct/len(test_dataset))\n",
    "\n",
    "    print(\"Epoch: [{}]/[{}], Training Loss: {:.3f}, Training Accuracy: {:.3f}, Testing Loss: {:.3f}, Testing Accuracy: {:.3f}\"\n",
    "          .format(epoch+1, num_epoch, train_loss[-1], train_accuracy[-1], test_loss[-1], test_accuracy[-1]))"
   ]
  },
  {
   "cell_type": "code",
   "execution_count": 11,
   "metadata": {},
   "outputs": [
    {
     "data": {
      "image/png": "[encoded data removed]",
      "text/plain": [
       "<Figure size 720x720 with 1 Axes>"
      ]
     },
     "metadata": {
      "needs_background": "light"
     },
     "output_type": "display_data"
    }
   ],
   "source": [
    "# plotting the loss\n",
    "f = plt.figure(figsize = (10, 10))\n",
    "plt.plot(train_loss, label = \"Training Loss\")\n",
    "plt.plot(test_loss, label = \"Training Accuracy\")\n",
    "plt.legend()\n",
    "plt.show()"
   ]
  },
  {
   "cell_type": "code",
   "execution_count": 12,
   "metadata": {},
   "outputs": [
    {
     "data": {
      "image/png": "[encoded data removed]",
      "text/plain": [
       "<Figure size 720x720 with 1 Axes>"
      ]
     },
     "metadata": {
      "needs_background": "light"
     },
     "output_type": "display_data"
    }
   ],
   "source": [
    "# plotting the accuracy\n",
    "f = plt.figure(figsize = (10, 10))\n",
    "plt.plot(train_accuracy, label = \"Training Accuracy\")\n",
    "plt.plot(test_accuracy, label = \"Testing Accuracy\")\n",
    "plt.legend()\n",
    "plt.show()"
   ]
  },
  {
   "cell_type": "code",
   "execution_count": 13,
   "metadata": {},
   "outputs": [
    {
     "name": "stdout",
     "output_type": "stream",
     "text": [
      "Prediction : 9\n",
      "Actual     : 9\n"
     ]
    }
   ],
   "source": [
    "img = test_dataset[20][0].reshape((1, 1, 28, 28))\n",
    "label = test_dataset[20][1]\n",
    "\n",
    "model.eval()\n",
    "\n",
    "if CUDA:\n",
    "    model = model.cuda()\n",
    "    img   = img.cuda()\n",
    "\n",
    "outputs = model(img)\n",
    "_, predicted = torch.max(outputs, 1)\n",
    "print(\"Prediction : {}\".format(predicted.item()))\n",
    "print(\"Actual     : {}\".format(label))"
   ]
  },
  {
   "cell_type": "code",
   "execution_count": 14,
   "metadata": {},
   "outputs": [],
   "source": [
    "import cv2\n",
    "from PIL import Image\n",
    "\n",
    "# predict function to predict your own image\n",
    "def predict(img_name, model):\n",
    "    image = cv2.imread(img_name, 0)                                                 # read the image\n",
    "    ret, thresholded = cv2.threshold(image, 127, 255, cv2.THRESH_BINARY)            # threshold the image\n",
    "    img = 255 - thresholded                                                         # apply image negative\n",
    "    cv2.imshow('Original', img)                                                     # display the processed image\n",
    "    cv2.waitKey(0)\n",
    "    cv2.destroyAllWindows()\n",
    "    img = Image.fromarray(img)                                                      # convert the image to array\n",
    "    img = transforms_photo(img)                                                      # apply the transformation\n",
    "    img = img.view(1, 1, 28, 28)                                                    # add batch size\n",
    "    img = Variable(img)                                                             # wrap tensor to variable\n",
    "\n",
    "    model.eval()\n",
    "\n",
    "    if CUDA:\n",
    "        model = model.cuda()\n",
    "        img   = img.cuda()\n",
    "    \n",
    "    outputs = model(img)\n",
    "    print(outputs)\n",
    "    print(outputs.data)\n",
    "\n",
    "    _, predicted = torch.max(outputs, 1)\n",
    "    return predicted.item()"
   ]
  },
  {
   "cell_type": "code",
   "execution_count": 17,
   "metadata": {},
   "outputs": [
    {
     "name": "stdout",
     "output_type": "stream",
     "text": [
      "tensor([[-1.5276,  1.5821,  3.9487,  7.8882, -4.3582, -1.7354, -2.8354, -1.5926,\n",
      "          2.1380, -3.8122]], grad_fn=<AddmmBackward0>)\n",
      "tensor([[-1.5276,  1.5821,  3.9487,  7.8882, -4.3582, -1.7354, -2.8354, -1.5926,\n",
      "          2.1380, -3.8122]])\n",
      "Prediction: 3\n"
     ]
    }
   ],
   "source": [
    "pred = predict('predict_this_img.jpg', model)\n",
    "print(\"Prediction: {}\".format(pred))"
   ]
  }
 ],
 "metadata": {
  "interpreter": {
   "hash": "1853f96fc0e2086397a223b6c4d8c3dbb05b85906089b92d942fad2dca26a6c8"
  },
  "kernelspec": {
   "display_name": "Python 3.9.7 ('base')",
   "language": "python",
   "name": "python3"
  },
  "language_info": {
   "codemirror_mode": {
    "name": "ipython",
    "version": 3
   },
   "file_extension": ".py",
   "mimetype": "text/x-python",
   "name": "python",
   "nbconvert_exporter": "python",
   "pygments_lexer": "ipython3",
   "version": "3.9.7"
  },
  "orig_nbformat": 4
 },
 "nbformat": 4,
 "nbformat_minor": 2
}
