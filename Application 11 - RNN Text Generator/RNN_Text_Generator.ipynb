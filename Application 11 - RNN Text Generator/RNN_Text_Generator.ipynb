{
 "cells": [
  {
   "cell_type": "markdown",
   "metadata": {},
   "source": [
    "# APPLICATION 11 - RNN TEXT GENERATOR"
   ]
  },
  {
   "cell_type": "code",
   "execution_count": 1,
   "metadata": {},
   "outputs": [],
   "source": [
    "import torch\n",
    "import torch.nn as nn\n",
    "from torch.nn.utils import clip_grad_norm_\n",
    "import os\n",
    "import numpy as np"
   ]
  },
  {
   "cell_type": "code",
   "execution_count": 2,
   "metadata": {},
   "outputs": [],
   "source": [
    "class Dictionary(object):\n",
    "    def __init__(self):\n",
    "        self.word2inx = {}\n",
    "        self.idx2word = {}\n",
    "        self.idx      = 0\n",
    "\n",
    "    def add_word(self, word):\n",
    "        if word not in self.word2inx:\n",
    "            self.word2inx[word]     = self.idx\n",
    "            self.idx2word[self.idx] = word\n",
    "            self.idx += 1\n",
    "\n",
    "    def __len__(self):\n",
    "        return len(self.word2inx)"
   ]
  },
  {
   "cell_type": "code",
   "execution_count": 3,
   "metadata": {},
   "outputs": [],
   "source": [
    "class TextProcess(object):\n",
    "    def __init__(self):\n",
    "        self.dictionary = Dictionary()\n",
    "\n",
    "    def get_data(self, path, batch_size = 20):\n",
    "        with open(path, 'r') as f:\n",
    "            tokens = 0\n",
    "            for line in f:\n",
    "                words = line.split() + ['<eos>']\n",
    "                tokens += len(words)\n",
    "                for word in words:\n",
    "                    self.dictionary.add_word(word)\n",
    "    \n",
    "        rep_tensor = torch.LongTensor(tokens)\n",
    "        index      = 0\n",
    "        with open(path, 'r') as f:\n",
    "            for line in f:\n",
    "                words = line.split() + ['<eos>']\n",
    "                for word in words:\n",
    "                    rep_tensor[index] = self.dictionary.word2inx[word]\n",
    "                    index += 1\n",
    "        \n",
    "        num_batches = rep_tensor.shape[0] // batch_size\n",
    "        rep_tensor  = rep_tensor[:num_batches * batch_size]\n",
    "        rep_tensor  = rep_tensor.view(batch_size, -1)\n",
    "        return rep_tensor"
   ]
  },
  {
   "cell_type": "code",
   "execution_count": 4,
   "metadata": {},
   "outputs": [],
   "source": [
    "embed_size      = 128\n",
    "hidden_size     = 1024\n",
    "num_layers      = 1\n",
    "num_epochs      = 20\n",
    "batch_size      = 20\n",
    "timesteps       = 30\n",
    "learning_rate   = 0.002"
   ]
  },
  {
   "cell_type": "code",
   "execution_count": 5,
   "metadata": {},
   "outputs": [
    {
     "name": "stdout",
     "output_type": "stream",
     "text": [
      "Rep Tensor Shape: torch.Size([20, 1484])\n",
      "Vocab Size: 5290\n",
      "Num Batches: 49\n"
     ]
    }
   ],
   "source": [
    "corpus = TextProcess()\n",
    "rep_tensor = corpus.get_data('data/alice.txt', batch_size)\n",
    "print('Rep Tensor Shape: {}'.format(rep_tensor.shape))\n",
    "vocab_size = len(corpus.dictionary)\n",
    "print('Vocab Size: {}'.format(vocab_size))\n",
    "\n",
    "num_batches = rep_tensor.shape[1] // timesteps\n",
    "print('Num Batches: {}'.format(num_batches))"
   ]
  },
  {
   "cell_type": "code",
   "execution_count": 6,
   "metadata": {},
   "outputs": [],
   "source": [
    "class TextGenerator(nn.Module):\n",
    "    def __init__(self, vocab_size, embed_size, hidden_size, num_layers):\n",
    "        super(TextGenerator, self).__init__()\n",
    "        self.embed  = nn.Embedding(vocab_size, embed_size)\n",
    "        self.lstm   = nn.LSTM(embed_size, hidden_size, num_layers, batch_first = True)\n",
    "        self.linear = nn.Linear(hidden_size, vocab_size)\n",
    "\n",
    "    def forward(self, x, h):\n",
    "        x = self.embed(x)\n",
    "        out, (h, c) = self.lstm(x, h)\n",
    "        out = out.reshape(out.size(0) * out.size(1), out.size(2))\n",
    "        out = self.linear(out)\n",
    "        return out, (h, c)"
   ]
  },
  {
   "cell_type": "code",
   "execution_count": 7,
   "metadata": {},
   "outputs": [],
   "source": [
    "model = TextGenerator(vocab_size, embed_size, hidden_size, num_layers)"
   ]
  },
  {
   "cell_type": "code",
   "execution_count": 8,
   "metadata": {},
   "outputs": [],
   "source": [
    "loss_fn   = nn.CrossEntropyLoss()\n",
    "optimizer = torch.optim.Adam(model.parameters(), lr = learning_rate)"
   ]
  },
  {
   "cell_type": "code",
   "execution_count": 9,
   "metadata": {},
   "outputs": [
    {
     "name": "stdout",
     "output_type": "stream",
     "text": [
      "Epoch [1/20], Loss: 8.5726\n",
      "Epoch [2/20], Loss: 5.9708\n",
      "Epoch [3/20], Loss: 5.1997\n",
      "Epoch [4/20], Loss: 4.6462\n",
      "Epoch [5/20], Loss: 4.1260\n",
      "Epoch [6/20], Loss: 3.5226\n",
      "Epoch [7/20], Loss: 3.0505\n",
      "Epoch [8/20], Loss: 2.7080\n",
      "Epoch [9/20], Loss: 2.2961\n",
      "Epoch [10/20], Loss: 1.9707\n",
      "Epoch [11/20], Loss: 1.6521\n",
      "Epoch [12/20], Loss: 1.4473\n",
      "Epoch [13/20], Loss: 1.1063\n",
      "Epoch [14/20], Loss: 0.8074\n",
      "Epoch [15/20], Loss: 0.6129\n",
      "Epoch [16/20], Loss: 0.4348\n",
      "Epoch [17/20], Loss: 0.2993\n",
      "Epoch [18/20], Loss: 0.1703\n",
      "Epoch [19/20], Loss: 0.1036\n",
      "Epoch [20/20], Loss: 0.0789\n"
     ]
    }
   ],
   "source": [
    "for epoch in range(num_epochs):\n",
    "    states = (torch.zeros(num_layers, batch_size, hidden_size),\n",
    "              torch.zeros(num_layers, batch_size, hidden_size))\n",
    "\n",
    "    for i in range(0, rep_tensor.size(1) - timesteps, timesteps):\n",
    "        inputs  = rep_tensor[:, i     : i+timesteps]\n",
    "        targets = rep_tensor[:, (i+1) : (i+1) +timesteps]\n",
    "\n",
    "        outputs, _ = model(inputs, states)\n",
    "        loss       = loss_fn(outputs, targets.reshape(-1))\n",
    "\n",
    "        model.zero_grad()\n",
    "        loss.backward()\n",
    "\n",
    "        clip_grad_norm_(model.parameters(), 0.5)\n",
    "        optimizer.step()\n",
    "\n",
    "        step = (i+1) // timesteps\n",
    "        if step % 100 == 0:\n",
    "            print('Epoch [{}/{}], Loss: {:.4f}'.format(epoch+1, num_epochs, loss.item()))"
   ]
  },
  {
   "cell_type": "code",
   "execution_count": 11,
   "metadata": {},
   "outputs": [
    {
     "name": "stdout",
     "output_type": "stream",
     "text": [
      "Sampled [100/500] words and to data/result.txt\n",
      "Sampled [200/500] words and to data/result.txt\n",
      "Sampled [300/500] words and to data/result.txt\n",
      "Sampled [400/500] words and to data/result.txt\n",
      "Sampled [500/500] words and to data/result.txt\n"
     ]
    }
   ],
   "source": [
    "with torch.no_grad():\n",
    "    with open('data/result.txt', 'w') as f:\n",
    "        state = (torch.zeros(num_layers, 1, hidden_size),\n",
    "                 torch.zeros(num_layers, 1, hidden_size))\n",
    "        \n",
    "        input = torch.randint(0, vocab_size, (1,)).long().unsqueeze(1)\n",
    "\n",
    "        for i in range(0, 500):\n",
    "            output, _ = model(input, state)\n",
    "            prob      = output.exp()\n",
    "            word_id   = torch.multinomial(prob, num_samples = 1).item()\n",
    "\n",
    "            input.fill_(word_id)\n",
    "\n",
    "            word = corpus.dictionary.idx2word[word_id]\n",
    "            word = '\\n' if word == '<eos>' else word + ' '\n",
    "            f.write(word)\n",
    "\n",
    "            if (i+1) % 100 == 0:\n",
    "                print('Sampled [{}/{}] words and to {}'.format(i+1, 500, 'data/result.txt'))"
   ]
  }
 ],
 "metadata": {
  "interpreter": {
   "hash": "1853f96fc0e2086397a223b6c4d8c3dbb05b85906089b92d942fad2dca26a6c8"
  },
  "kernelspec": {
   "display_name": "Python 3.9.7 ('base')",
   "language": "python",
   "name": "python3"
  },
  "language_info": {
   "codemirror_mode": {
    "name": "ipython",
    "version": 3
   },
   "file_extension": ".py",
   "mimetype": "text/x-python",
   "name": "python",
   "nbconvert_exporter": "python",
   "pygments_lexer": "ipython3",
   "version": "3.9.7"
  },
  "orig_nbformat": 4
 },
 "nbformat": 4,
 "nbformat_minor": 2
}
