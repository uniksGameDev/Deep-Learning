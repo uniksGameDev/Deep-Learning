{
 "cells": [
  {
   "cell_type": "markdown",
   "metadata": {},
   "source": [
    "# Application 4 - Handwritten Digits"
   ]
  },
  {
   "cell_type": "code",
   "execution_count": 1,
   "metadata": {},
   "outputs": [],
   "source": [
    "import torch\n",
    "import torch.nn as nn\n",
    "import torchvision.datasets as datasets\n",
    "import torchvision.transforms as transforms\n",
    "from torch.autograd import Variable"
   ]
  },
  {
   "cell_type": "code",
   "execution_count": 2,
   "metadata": {},
   "outputs": [],
   "source": [
    "input_size      =   784                 # number of input neurons (features)\n",
    "hidden_size     =   400                 # number of hidden neurons\n",
    "output_size     =   10                  # number of output neurons (class 0-9)\n",
    "epochs          =   10                  # how many times we pass our entire dataset into network\n",
    "batch_size      =   100                 # input size of data during one iteration\n",
    "learning_rate   =   0.001               # how fast we are learning"
   ]
  },
  {
   "cell_type": "code",
   "execution_count": 3,
   "metadata": {},
   "outputs": [],
   "source": [
    "train_dataset = datasets.MNIST(root      = './data',\n",
    "                               train     = True,\n",
    "                               transform = transforms.ToTensor(),\n",
    "                               download  = True)\n",
    "test_dataset  = datasets.MNIST(root      = './data',\n",
    "                               train     = False,\n",
    "                               transform = transforms.ToTensor(),\n",
    "                               download  = True)"
   ]
  },
  {
   "cell_type": "code",
   "execution_count": 4,
   "metadata": {},
   "outputs": [],
   "source": [
    "train_loader = torch.utils.data.DataLoader(dataset      = train_dataset,\n",
    "                                           batch_size   = batch_size,\n",
    "                                           shuffle      = True)\n",
    "test_loader  = torch.utils.data.DataLoader(dataset      = test_dataset,\n",
    "                                           batch_size   = batch_size,\n",
    "                                           shuffle      = True)"
   ]
  },
  {
   "cell_type": "code",
   "execution_count": 5,
   "metadata": {},
   "outputs": [],
   "source": [
    "class Net(nn.Module):\n",
    "    def __init__(self, input_size, hidden_size, output_size):\n",
    "        super(Net, self).__init__()\n",
    "        self.fc1 = nn.Linear(input_size, hidden_size)\n",
    "        self.fc2 = nn.Linear(hidden_size, hidden_size)\n",
    "        self.fc3 = nn.Linear(hidden_size, output_size)\n",
    "        self.relu = nn.ReLU()\n",
    "        self.init_weights()\n",
    "    \n",
    "    def init_weights(self):\n",
    "        nn.init.kaiming_normal_(self.fc1.weight)\n",
    "        nn.init.kaiming_normal_(self.fc2.weight)\n",
    "\n",
    "    def forward(self, x):\n",
    "        out = self.fc1(x)\n",
    "        out = self.relu(out)\n",
    "        out = self.fc2(out)\n",
    "        out = self.relu(out)\n",
    "        out = self.fc3(out)\n",
    "        return out"
   ]
  },
  {
   "cell_type": "code",
   "execution_count": 6,
   "metadata": {},
   "outputs": [],
   "source": [
    "# create an object of the class, which represents our network\n",
    "net = Net(input_size, hidden_size, output_size)\n",
    "CUDA = torch.cuda.is_available()\n",
    "if CUDA:\n",
    "    net = net.cuda()\n",
    "\n",
    "# the loss function. The Cross Entropy loss comes along with Softmax. Therefore, no need to specify Softmax as well\n",
    "criterion = nn.CrossEntropyLoss()\n",
    "optimizer = torch.optim.Adam(params = net.parameters(), lr = learning_rate)"
   ]
  },
  {
   "cell_type": "code",
   "execution_count": 7,
   "metadata": {},
   "outputs": [
    {
     "name": "stdout",
     "output_type": "stream",
     "text": [
      "Epoch [1/10], Training Loss: 0.235, Training Accuracy: 93.113%\n",
      "Epoch [2/10], Training Loss: 0.085, Training Accuracy: 97.393%\n",
      "Epoch [3/10], Training Loss: 0.053, Training Accuracy: 98.343%\n",
      "Epoch [4/10], Training Loss: 0.038, Training Accuracy: 98.753%\n",
      "Epoch [5/10], Training Loss: 0.029, Training Accuracy: 99.087%\n",
      "Epoch [6/10], Training Loss: 0.022, Training Accuracy: 99.278%\n",
      "Epoch [7/10], Training Loss: 0.020, Training Accuracy: 99.320%\n",
      "Epoch [8/10], Training Loss: 0.016, Training Accuracy: 99.457%\n",
      "Epoch [9/10], Training Loss: 0.017, Training Accuracy: 99.427%\n",
      "Epoch [10/10], Training Loss: 0.013, Training Accuracy: 99.605%\n",
      "DONE TRAINING!\n"
     ]
    }
   ],
   "source": [
    "# train the network\n",
    "for epoch in range(epochs):\n",
    "    correct_train = 0\n",
    "    running_loss = 0\n",
    "    for i, (images, labels) in enumerate(train_loader):\n",
    "        images = images.view(-1, 28*28)    \n",
    "     \n",
    "        if CUDA:\n",
    "            images = images.cuda()\n",
    "            labels = labels.cuda()\n",
    "            \n",
    "        outputs = net(images)       \n",
    "        _, predicted = torch.max(outputs.data, 1)\n",
    "\n",
    "        if CUDA:\n",
    "            correct_train += (predicted.cpu() == labels.cup()).sum()\n",
    "        else:\n",
    "            correct_train += (predicted == labels).sum()\n",
    "        # Difference between the actual and predicted (loss function)\n",
    "        loss = criterion(outputs, labels)\n",
    "        running_loss += loss.item()\n",
    "\n",
    "        # clear gradient\n",
    "        optimizer.zero_grad()\n",
    "\n",
    "        # Backpropagation \n",
    "        loss.backward()\n",
    "        \n",
    "        # update the weights\n",
    "        optimizer.step()\n",
    "        \n",
    "    print('Epoch [{}/{}], Training Loss: {:.3f}, Training Accuracy: {:.3f}%'.format(epoch+1, epochs, running_loss/len(train_loader), (100*correct_train.double()/len(train_dataset))))\n",
    "\n",
    "print(\"DONE TRAINING!\")"
   ]
  },
  {
   "cell_type": "code",
   "execution_count": 8,
   "metadata": {},
   "outputs": [
    {
     "name": "stdout",
     "output_type": "stream",
     "text": [
      "Accuracy of the network on the 10000 test images: 97.65 %\n"
     ]
    }
   ],
   "source": [
    "# testing the network\n",
    "with torch.no_grad():\n",
    "    correct_prediction = 0\n",
    "    for images, labels in test_loader:\n",
    "        if CUDA:\n",
    "            images = images.cuda()\n",
    "            labels = labels.cuda()\n",
    "        \n",
    "        images = images.view(-1, 28*28)\n",
    "        outputs = net(images)\n",
    "\n",
    "        _, predicted = torch.max(outputs.data, 1)\n",
    "\n",
    "        if CUDA:\n",
    "            correct_prediction += (predicted.cpu() == labels.cpu()).sum()\n",
    "        else:\n",
    "            correct_prediction += (predicted == labels).sum().item()\n",
    "\n",
    "    print('Accuracy of the network on the 10000 test images: {} %'.format(100 * correct_prediction / len(test_dataset)))"
   ]
  }
 ],
 "metadata": {
  "interpreter": {
   "hash": "1853f96fc0e2086397a223b6c4d8c3dbb05b85906089b92d942fad2dca26a6c8"
  },
  "kernelspec": {
   "display_name": "Python 3.9.7 ('base')",
   "language": "python",
   "name": "python3"
  },
  "language_info": {
   "codemirror_mode": {
    "name": "ipython",
    "version": 3
   },
   "file_extension": ".py",
   "mimetype": "text/x-python",
   "name": "python",
   "nbconvert_exporter": "python",
   "pygments_lexer": "ipython3",
   "version": "3.9.7"
  },
  "orig_nbformat": 4
 },
 "nbformat": 4,
 "nbformat_minor": 2
}
